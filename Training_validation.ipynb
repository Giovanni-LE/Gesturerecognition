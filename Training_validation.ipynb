{
 "cells": [
  {
   "cell_type": "markdown",
   "metadata": {},
   "source": [
    "# 1. Librerie"
   ]
  },
  {
   "cell_type": "code",
   "execution_count": null,
   "metadata": {},
   "outputs": [],
   "source": [
    "#!pip install tensorflow==2.4.1 tensorflow-gpu==2.4.1 opencv-python mediapipe sklearn matplotlib\n",
    "import cv2\n",
    "import numpy as np\n",
    "import os\n",
    "from matplotlib import pyplot as plt\n",
    "import time\n",
    "import mediapipe as mp\n",
    "from sklearn.model_selection import train_test_split\n",
    "from tensorflow.keras.utils import to_categorical\n",
    "import matplotlib.pyplot as plt\n",
    "from tensorflow.keras.models import Sequential\n",
    "from tensorflow.keras.layers import Dense\n",
    "from tensorflow.keras.callbacks import TensorBoard\n",
    "from tensorflow.keras.callbacks import EarlyStopping\n",
    "from sklearn.metrics import multilabel_confusion_matrix, accuracy_score\n",
    "import seaborn as sns\n",
    "from sklearn.metrics import confusion_matrix\n",
    "from scipy import stats"
   ]
  },
  {
   "cell_type": "markdown",
   "metadata": {},
   "source": [
    "# 2. Keypoints using MP Holistic"
   ]
  },
  {
   "cell_type": "code",
   "execution_count": 2,
   "metadata": {},
   "outputs": [],
   "source": [
    "mp_holistic = mp.solutions.holistic # Holistic model (to make our detection)\n",
    "mp_drawing = mp.solutions.drawing_utils # Drawing utilities (to draw them)"
   ]
  },
  {
   "cell_type": "code",
   "execution_count": 3,
   "metadata": {},
   "outputs": [],
   "source": [
    "def mediapipe_detection(image, model):\n",
    "\n",
    "    \"\"\"\n",
    "    Esegue la rilevazione dei landmark delle mani utilizzando il modello di MediaPipe.\n",
    "\n",
    "    Input:\n",
    "    - image: l'immagine di input (frame) su cui effettuare la rilevazione dei landmark\n",
    "    - model: il modello di MediaPipe per la rilevazione dei landmark\n",
    "\n",
    "    Output:\n",
    "    - image: l'immagine di input modificata, con i landmark disegnati\n",
    "    - results: gli oggetti 'results' contenenti i risultati della rilevazione dei landmark\n",
    "    \"\"\"\n",
    "\n",
    "    image = cv2.cvtColor(image, cv2.COLOR_BGR2RGB) # COLOR CONVERSION BGR 2 RGB\n",
    "    image.flags.writeable = False                  # Image is no longer writeable\n",
    "    results = model.process(image)                 # Make prediction\n",
    "    image.flags.writeable = True                   # Image is now writeable \n",
    "    image = cv2.cvtColor(image, cv2.COLOR_RGB2BGR) # COLOR COVERSION RGB 2 BGR\n",
    "    return image, results"
   ]
  },
  {
   "cell_type": "code",
   "execution_count": 4,
   "metadata": {},
   "outputs": [],
   "source": [
    "def draw_landmarks(image, results):\n",
    "    \"\"\"\n",
    "    Disegna i landmark delle mani sull'immagine utilizzando i risultati ottenuti dalla rilevazione di MediaPipe.\n",
    "\n",
    "    Input:\n",
    "    - image: l'immagine su cui disegnare i landmark\n",
    "    - results: i risultati ottenuti dalla rilevazione di MediaPipe\n",
    "\n",
    "    Output:\n",
    "    - None\n",
    "    \"\"\"\n",
    "\n",
    "    # Disegna i landmark della mano sinistra e le relative connessioni\n",
    "    mp_drawing.draw_landmarks(image, results.left_hand_landmarks, mp_holistic.HAND_CONNECTIONS)\n",
    "\n",
    "    # Disegna i landmark della mano destra e le relative connessioni\n",
    "    mp_drawing.draw_landmarks(image, results.right_hand_landmarks, mp_holistic.HAND_CONNECTIONS)\n"
   ]
  },
  {
   "cell_type": "code",
   "execution_count": 5,
   "metadata": {},
   "outputs": [],
   "source": [
    "def draw_styled_landmarks(image, results):\n",
    "    \"\"\"\n",
    "    Disegna i landmark delle mani sull'immagine utilizzando uno stile personalizzato.\n",
    "\n",
    "    Input:\n",
    "    - image: l'immagine su cui disegnare i landmark\n",
    "    - results: i risultati ottenuti dalla rilevazione di MediaPipe\n",
    "\n",
    "    Output:\n",
    "    - None\n",
    "    \"\"\"\n",
    "\n",
    "    # Disegna i landmark della mano sinistra e le relative connessioni con uno stile personalizzato\n",
    "    mp_drawing.draw_landmarks(image, results.left_hand_landmarks, mp_holistic.HAND_CONNECTIONS, \n",
    "                             mp_drawing.DrawingSpec(color=(121,22,76), thickness=2, circle_radius=4), \n",
    "                             mp_drawing.DrawingSpec(color=(121,44,250), thickness=2, circle_radius=2)\n",
    "                             )\n",
    "\n",
    "    # Disegna i landmark della mano destra e le relative connessioni con uno stile personalizzato\n",
    "    mp_drawing.draw_landmarks(image, results.right_hand_landmarks, mp_holistic.HAND_CONNECTIONS, \n",
    "                             mp_drawing.DrawingSpec(color=(245,117,66), thickness=2, circle_radius=4), \n",
    "                             mp_drawing.DrawingSpec(color=(245,66,230), thickness=2, circle_radius=2)\n",
    "                             )\n"
   ]
  },
  {
   "cell_type": "markdown",
   "metadata": {},
   "source": [
    "# 3. Extract Keypoint Values"
   ]
  },
  {
   "cell_type": "code",
   "execution_count": 6,
   "metadata": {},
   "outputs": [],
   "source": [
    "def extract_keypoints(results):\n",
    "    \"\"\"\n",
    "    Estrae i punti chiave dei landmark delle mani dai risultati di MediaPipe.\n",
    "\n",
    "    Input:\n",
    "    - results: i risultati ottenuti dalla rilevazione di MediaPipe\n",
    "\n",
    "    Output:\n",
    "    - keypoints: un array numpy contenente i punti chiave dei landmark delle mani\n",
    "    \"\"\"\n",
    "\n",
    "    # Estrae i punti chiave dei landmark della mano sinistra se disponibili, altrimenti crea un array di zeri\n",
    "    lh = np.array([[res.x, res.y, res.z] for res in results.left_hand_landmarks.landmark]).flatten() if results.left_hand_landmarks else np.zeros(21*3)\n",
    "\n",
    "    # Estrae i punti chiave dei landmark della mano destra se disponibili, altrimenti crea un array di zeri\n",
    "    rh = np.array([[res.x, res.y, res.z] for res in results.right_hand_landmarks.landmark]).flatten() if results.right_hand_landmarks else np.zeros(21*3)\n",
    "\n",
    "    # Concatena i punti chiave delle mani sinistra e destra in un unico array\n",
    "    keypoints = np.concatenate([lh, rh])\n",
    "\n",
    "    return keypoints\n"
   ]
  },
  {
   "cell_type": "markdown",
   "metadata": {},
   "source": [
    "# 4. Setup Folders for Collection"
   ]
  },
  {
   "cell_type": "code",
   "execution_count": 8,
   "metadata": {},
   "outputs": [],
   "source": [
    "# Path for exported data, numpy arrays\n",
    "DATA_PATH = os.path.join('MP_Data') \n",
    "\n",
    "# Actions that we try to detect\n",
    "actions = np.array(['0','1', '2', '3','4','5','altro'])\n",
    "\n",
    "# Thirty videos worth of data\n",
    "no_sequences = 120\n",
    "\n",
    "# Videos are going to be 30 frames in length\n",
    "sequence_length = 30\n",
    "\n",
    "# Folder start\n",
    "start_folder = 1"
   ]
  },
  {
   "cell_type": "markdown",
   "metadata": {},
   "source": [
    "Creazione del folder che conterrà tutti i frame del dataset"
   ]
  },
  {
   "cell_type": "code",
   "execution_count": null,
   "metadata": {},
   "outputs": [],
   "source": [
    "for action in actions:\n",
    "    # dirmax = np.max(np.array(os.listdir(os.path.join(DATA_PATH, action))).astype(int))\n",
    "    dirmax = 0\n",
    "    for sequence in range(start_folder, no_sequences + start_folder):\n",
    "        # loop interno che itera su una sequenza specifica di cartelle.\n",
    "        # start_folder rappresenta il numero della cartella di partenza e no_sequences rappresenta il numero totale di sequenze da creare\n",
    "\n",
    "        try:\n",
    "            os.makedirs(os.path.join(DATA_PATH, action, str(dirmax + sequence)))\n",
    "        except:\n",
    "            pass\n"
   ]
  },
  {
   "cell_type": "markdown",
   "metadata": {},
   "source": [
    "# 5. Collect Keypoint Values for Training and Testing"
   ]
  },
  {
   "cell_type": "code",
   "execution_count": null,
   "metadata": {},
   "outputs": [],
   "source": [
    "cap = cv2.VideoCapture(0)\n",
    "# Set mediapipe model \n",
    "with mp_holistic.Holistic(min_detection_confidence=0.5, min_tracking_confidence=0.5) as holistic:\n",
    "\n",
    "    # Iterazione sulle azioni\n",
    "    for action in actions:\n",
    "        # Iterazione sulle sequenze (video)\n",
    "        for sequence in range(start_folder, start_folder+no_sequences):\n",
    "            # Iterazione sulla lunghezza del video (lunghezza della sequenza)\n",
    "            for frame_num in range(sequence_length):\n",
    "\n",
    "                # Leggi il frame\n",
    "                ret, frame = cap.read()\n",
    "\n",
    "                # Effettua le rilevazioni\n",
    "                image, results = mediapipe_detection(frame, holistic)\n",
    "\n",
    "                # Disegna i landmark\n",
    "                draw_styled_landmarks(image, results)\n",
    "                \n",
    "                # Applica la logica di attesa\n",
    "                if frame_num == 0: \n",
    "                    cv2.putText(image, 'STARTING COLLECTION', (120,200), \n",
    "                               cv2.FONT_HERSHEY_SIMPLEX, 1, (0,255, 0), 4, cv2.LINE_AA)\n",
    "                    cv2.putText(image, 'Collecting frames for {} Video Number {}'.format(action, sequence), (15,12), \n",
    "                               cv2.FONT_HERSHEY_SIMPLEX, 0.5, (0, 0, 255), 1, cv2.LINE_AA)\n",
    "                    # Mostra il frame sullo schermo\n",
    "                    cv2.imshow('OpenCV Feed', image)\n",
    "                    cv2.waitKey(2000)\n",
    "                else: \n",
    "                    cv2.putText(image, 'Collecting frames for {} Video Number {}'.format(action, sequence), (15,12), \n",
    "                               cv2.FONT_HERSHEY_SIMPLEX, 0.5, (0, 0, 255), 1, cv2.LINE_AA)\n",
    "                    # Mostra il frame sullo schermo\n",
    "                    cv2.imshow('OpenCV Feed', image)\n",
    "                \n",
    "                # Esporta i keypoints\n",
    "                keypoints = extract_keypoints(results)\n",
    "                npy_path = os.path.join(DATA_PATH, action, str(sequence), str(frame_num))\n",
    "                np.save(npy_path, keypoints)\n",
    "\n",
    "                # Interrompi l'esecuzione in modo sicuro\n",
    "                if cv2.waitKey(10) & 0xFF == ord('q'):\n",
    "                    break\n",
    "                    \n",
    "cap.release()\n",
    "cv2.destroyAllWindows()\n"
   ]
  },
  {
   "cell_type": "markdown",
   "metadata": {},
   "source": [
    "# 6. Preprocess Data and Create Labels and Features"
   ]
  },
  {
   "cell_type": "code",
   "execution_count": 12,
   "metadata": {},
   "outputs": [
    {
     "data": {
      "text/plain": [
       "{'0': 0, '1': 1, '2': 2, '3': 3, '4': 4, '5': 5, 'altro': 6}"
      ]
     },
     "execution_count": 12,
     "metadata": {},
     "output_type": "execute_result"
    }
   ],
   "source": [
    "# crea un dizionario label_map che associa a ciascuna azione presente nella lista actions un numero intero univoco.\n",
    "label_map = {label:num for num, label in enumerate(actions)} \n",
    "label_map"
   ]
  },
  {
   "cell_type": "code",
   "execution_count": 13,
   "metadata": {},
   "outputs": [],
   "source": [
    "sequences, labels = [], []  # Inizializza le liste vuote per sequenze e etichette\n",
    "\n",
    "# Itera su tutte le azioni\n",
    "for action in actions:\n",
    "    lista = np.array(os.listdir(os.path.join(DATA_PATH, action)))  # Ottiene la lista dei file all'interno della cartella corrispondente all'azione\n",
    "    \n",
    "    # Elimina eventuali file non validi ('.DS_Store')\n",
    "    for j in range(len(lista) - 1):\n",
    "        if lista[j] == '.DS_Store':\n",
    "            lista = np.delete(lista, j)\n",
    "    \n",
    "    # Itera su ciascuna sequenza di frame\n",
    "    for sequence in lista.astype(int):\n",
    "        \n",
    "        # Itera su ciascun frame nella sequenza\n",
    "        for frame_num in range(sequence_length):\n",
    "            res = np.load(os.path.join(DATA_PATH, action, str(sequence), \"{}.npy\".format(frame_num)))  # Carica il frame corrispondente\n",
    "            sequences.append(res)  # Aggiunge la sequenza ala lista delle sequenze\n",
    "            labels.append(label_map[action])  # Aggiunge l'etichetta corrispondente all'azione alla lista delle etichette\n"
   ]
  },
  {
   "cell_type": "code",
   "execution_count": null,
   "metadata": {},
   "outputs": [],
   "source": [
    "print(f\"Shape di sequences: {np.array(sequences).shape}\")\n",
    "print(f\"Shape di labels: {np.array(labels).shape}\")"
   ]
  },
  {
   "cell_type": "code",
   "execution_count": 15,
   "metadata": {},
   "outputs": [],
   "source": [
    "# Creazione dell'array X contenente le sequenze di frame\n",
    "X = np.array(sequences)\n",
    "\n",
    "# Conversione delle etichette in forma categorica\n",
    "y = to_categorical(labels).astype(int)\n",
    "\n",
    "# Divisione dei dati in set di addestramento e test\n",
    "X_train, X_test, y_train, y_test = train_test_split(X, y, test_size=0.05)"
   ]
  },
  {
   "cell_type": "code",
   "execution_count": null,
   "metadata": {},
   "outputs": [],
   "source": [
    "print(f\"Dimensione del construction set: {X_train.shape}\")\n",
    "print(f\"Dimensione del test set: {y_train.shape}\")"
   ]
  },
  {
   "cell_type": "markdown",
   "metadata": {},
   "source": [
    "# Funzione per la visualizzazione della loss e accuracy dell'allenamento"
   ]
  },
  {
   "cell_type": "code",
   "execution_count": 17,
   "metadata": {},
   "outputs": [],
   "source": [
    "def loss_accuracy(history):\n",
    "    \"\"\"\n",
    "    Funzione per visualizzare la loss e l'accuracy durante l'addestramento di un modello.\n",
    "\n",
    "    Argomenti:\n",
    "    - history: Oggetto History restituito dal metodo fit durante l'addestramento del modello.\n",
    "\n",
    "    Output:\n",
    "    - 0\n",
    "\n",
    "    La funzione estrae la loss e l'accuracy dalla cronologia dell'addestramento e genera due grafici:\n",
    "    uno per visualizzare la variazione della loss nel corso delle epoch, e uno per visualizzare la\n",
    "    variazione dell'accuracy nel corso delle epoch. Entrambi i grafici vengono mostrati a schermo.\n",
    "\n",
    "    \"\"\"\n",
    "    # Estrazione della loss e dell'accuracy dalla cronologia dell'addestramento\n",
    "    loss = history.history['loss']\n",
    "    accuracy = history.history['categorical_accuracy']\n",
    "\n",
    "    # Plot della loss\n",
    "    plt.figure()\n",
    "    plt.plot(loss, label='Loss')\n",
    "    plt.xlabel('Epoch')\n",
    "    plt.ylabel('Loss')\n",
    "    plt.title('Loss durante l\\'addestramento')\n",
    "    plt.legend()\n",
    "    plt.show()\n",
    "\n",
    "    # Plot dell'accuracy\n",
    "    plt.figure()\n",
    "    plt.plot(accuracy, label='Accuracy')\n",
    "    plt.xlabel('Epoch')\n",
    "    plt.ylabel('Accuracy')\n",
    "    plt\n"
   ]
  },
  {
   "cell_type": "markdown",
   "metadata": {},
   "source": [
    "# 7. Build and Train Neural Network"
   ]
  },
  {
   "cell_type": "code",
   "execution_count": 19,
   "metadata": {},
   "outputs": [],
   "source": [
    "log_dir = os.path.join('Logs')\n",
    "tb_callback = TensorBoard(log_dir=log_dir) #oggetto TensorBoard che viene utilizzato per la registrazione dei log durante l'addestramento di un modello di machine learning"
   ]
  },
  {
   "cell_type": "code",
   "execution_count": 20,
   "metadata": {},
   "outputs": [],
   "source": [
    "early_stopping = EarlyStopping(monitor='loss', patience=10, restore_best_weights=True)"
   ]
  },
  {
   "cell_type": "markdown",
   "metadata": {},
   "source": [
    "Definizione un modello sequenziale con tre strati densamente connessi. Il primo strato ha 64 neuroni con funzione di attivazione ReLU e prende in input un vettore di dimensione 126. Il secondo strato ha 32 neuroni con funzione di attivazione ReLU. Il terzo strato ha un numero di neuroni pari al numero di classi actions.shape[0] ed utilizza la funzione di attivazione softmax per ottenere le probabilità delle classi di output.\n",
    "\n",
    "Successivamente, il modello viene compilato utilizzando l'ottimizzatore Adam, la loss function di tipo categorical_crossentropy (adatta per problemi di classificazione multiclasse) e la metrica di valutazione categorical_accuracy (per valutare l'accuratezza del modello durante l'addestramento)."
   ]
  },
  {
   "cell_type": "code",
   "execution_count": 23,
   "metadata": {},
   "outputs": [],
   "source": [
    "model = Sequential()\n",
    "model.add(Dense(64, activation='relu', input_shape=(126,)))\n",
    "model.add(Dense(32, activation='relu'))\n",
    "model.add(Dense(actions.shape[0], activation='softmax'))\n",
    "model.compile(optimizer='Adam', loss='categorical_crossentropy', metrics=['categorical_accuracy'])"
   ]
  },
  {
   "cell_type": "code",
   "execution_count": 27,
   "metadata": {},
   "outputs": [
    {
     "data": {
      "image/png": "[encoded data removed]",
      "text/plain": [
       "<Figure size 640x480 with 1 Axes>"
      ]
     },
     "metadata": {},
     "output_type": "display_data"
    },
    {
     "data": {
      "image/png": "[encoded data removed]",
      "text/plain": [
       "<Figure size 640x480 with 1 Axes>"
      ]
     },
     "metadata": {},
     "output_type": "display_data"
    },
    {
     "data": {
      "text/plain": [
       "0"
      ]
     },
     "execution_count": 27,
     "metadata": {},
     "output_type": "execute_result"
    }
   ],
   "source": [
    "#history = model.fit(X_train, y_train, epochs=2000, callbacks=[tb_callback, early_stopping],verbose=0)\n",
    "#model.summary()\n",
    "\n",
    "loss_accuracy(history)"
   ]
  },
  {
   "cell_type": "markdown",
   "metadata": {},
   "source": [
    "# 8. Make Predictions"
   ]
  },
  {
   "cell_type": "code",
   "execution_count": 28,
   "metadata": {},
   "outputs": [
    {
     "name": "stdout",
     "output_type": "stream",
     "text": [
      "40/40 [==============================] - 0s 2ms/step\n"
     ]
    }
   ],
   "source": [
    "res = model.predict(X_test)"
   ]
  },
  {
   "cell_type": "code",
   "execution_count": 29,
   "metadata": {},
   "outputs": [
    {
     "name": "stdout",
     "output_type": "stream",
     "text": [
      "Esempio di predizione sul test\n",
      "Classe reale: 3\n",
      "Classe predetta: 3\n"
     ]
    }
   ],
   "source": [
    "print (f\"Esempio di predizione sul test:\")\n",
    "print(f\"Classe reale: {np.argmax(y_test[3])}\")\n",
    "print(f\"Classe predetta: {np.argmax(res[3])}\")\n"
   ]
  },
  {
   "cell_type": "markdown",
   "metadata": {},
   "source": [
    "# 9. Save Weights"
   ]
  },
  {
   "cell_type": "code",
   "execution_count": 43,
   "metadata": {},
   "outputs": [],
   "source": [
    "model.save('modello/action.h5')"
   ]
  },
  {
   "cell_type": "code",
   "execution_count": 44,
   "metadata": {},
   "outputs": [],
   "source": [
    "import pickle\n",
    "with open('modello/history.pickle', 'wb') as file:\n",
    "    pickle.dump(history.history, file)"
   ]
  },
  {
   "cell_type": "code",
   "execution_count": 24,
   "metadata": {},
   "outputs": [],
   "source": [
    "model.load_weights('modello/action.h5')"
   ]
  },
  {
   "cell_type": "code",
   "execution_count": 26,
   "metadata": {},
   "outputs": [],
   "source": [
    "import pickle\n",
    "with open('modello/history.pickle', 'rb') as file:\n",
    "    history = pickle.load(file)"
   ]
  },
  {
   "cell_type": "markdown",
   "metadata": {},
   "source": [
    "# 10. Evaluation using Confusion Matrix and Accuracy"
   ]
  },
  {
   "cell_type": "code",
   "execution_count": 28,
   "metadata": {},
   "outputs": [
    {
     "name": "stdout",
     "output_type": "stream",
     "text": [
      "40/40 [==============================] - 0s 2ms/step\n"
     ]
    }
   ],
   "source": [
    "yhat = model.predict(X_test)"
   ]
  },
  {
   "cell_type": "code",
   "execution_count": 29,
   "metadata": {},
   "outputs": [],
   "source": [
    "ytrue = np.argmax(y_test, axis=1).tolist()\n",
    "yhat = np.argmax(yhat, axis=1).tolist()"
   ]
  },
  {
   "cell_type": "code",
   "execution_count": 30,
   "metadata": {},
   "outputs": [
    {
     "data": {
      "image/png": "[encoded data removed]",
      "text/plain": [
       "<Figure size 640x480 with 2 Axes>"
      ]
     },
     "metadata": {},
     "output_type": "display_data"
    }
   ],
   "source": [
    "multilabel_confusion_matrix(ytrue, yhat)\n",
    "\n",
    "cm = confusion_matrix(ytrue, yhat)\n",
    "accuracy = accuracy_score(ytrue, yhat)\n",
    "accuracy_rounded = round(accuracy, 3)  # Arrotonda l'accuratezza a tre cifre decimali\n",
    "\n",
    "# Crea una heatmap della matrice di confusione utilizzando Seaborn\n",
    "sns.heatmap(cm, annot=True, fmt=\"d\", cmap=\"Blues\")\n",
    "\n",
    "# Personalizza l'aspetto della heatmap\n",
    "plt.title(f\"Confusion Matrix (accuracy score = {accuracy_rounded})\")\n",
    "plt.xlabel(\"Etichetta Predetta\")\n",
    "plt.ylabel(\"Etichetta Vera\")\n",
    "\n",
    "# Mostra la heatmap\n",
    "plt.show()"
   ]
  }
 ],
 "metadata": {
  "kernelspec": {
   "display_name": "Python 3.11.3 ('sol3D')",
   "language": "python",
   "name": "python3"
  },
  "language_info": {
   "codemirror_mode": {
    "name": "ipython",
    "version": 3
   },
   "file_extension": ".py",
   "mimetype": "text/x-python",
   "name": "python",
   "nbconvert_exporter": "python",
   "pygments_lexer": "ipython3",
   "version": "3.11.3"
  },
  "vscode": {
   "interpreter": {
    "hash": "487071e4b78db7dea0d63908693b0450144b2a88b91c498155ab01fac23904db"
   }
  }
 },
 "nbformat": 4,
 "nbformat_minor": 2
}
