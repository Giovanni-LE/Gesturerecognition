{
 "cells": [
  {
   "cell_type": "markdown",
   "metadata": {},
   "source": [
    "# Librerie"
   ]
  },
  {
   "cell_type": "code",
   "execution_count": 26,
   "metadata": {},
   "outputs": [],
   "source": [
    "import cv2\n",
    "import mediapipe as mp\n",
    "import numpy as np\n",
    "from matplotlib import pyplot as plt"
   ]
  },
  {
   "cell_type": "markdown",
   "metadata": {},
   "source": [
    "# Funzioni "
   ]
  },
  {
   "cell_type": "code",
   "execution_count": 52,
   "metadata": {},
   "outputs": [],
   "source": [
    "mp_holistic = mp.solutions.holistic # Holistic model (to make our detection)\n",
    "\n",
    "def mediapipe_detection(image, model):\n",
    "    h = \"\"\"prende in input un'immagine RGB e restituisce i risultati del rilevamento delle mani\"\"\"\n",
    "    \n",
    "    image = cv2.cvtColor(image, cv2.COLOR_BGR2RGB)\n",
    "    image.flags.writeable = False\n",
    "    results = model.process(image)\n",
    "    image.flags.writeable = True\n",
    "    image = cv2.cvtColor(image, cv2.COLOR_RGB2BGR)\n",
    "    return image, results\n",
    "\n",
    "mp_drawing = mp.solutions.drawing_utils # Drawing utilities (to draw them)\n",
    "def draw_styled_landmarks(image, results):\n",
    "    mp_drawing.draw_landmarks(image, results.left_hand_landmarks, mp_holistic.HAND_CONNECTIONS, \n",
    "                             mp_drawing.DrawingSpec(color=(121,22,76), thickness=2, circle_radius=4), \n",
    "                             mp_drawing.DrawingSpec(color=(121,44,250), thickness=2, circle_radius=2)\n",
    "                             ) \n",
    "    # Draw right hand connections  \n",
    "    mp_drawing.draw_landmarks(image, results.right_hand_landmarks, mp_holistic.HAND_CONNECTIONS, \n",
    "                             mp_drawing.DrawingSpec(color=(245,117,66), thickness=2, circle_radius=4), \n",
    "                             mp_drawing.DrawingSpec(color=(245,66,230), thickness=2, circle_radius=2)\n",
    "                             ) \n",
    "\n",
    "def extract_hand_landmark_coordinates(results):\n",
    "    left_hand_landmarks = results.left_hand_landmarks\n",
    "    right_hand_landmarks = results.right_hand_landmarks #Queste righe estraggono gli attributi left_hand_landmarks e right_hand_landmarks dall'oggetto results, che rappresentano i landmark delle mani sinistra e destra rilevate.\n",
    "    left_hand_landmark_coordinates = []\n",
    "    right_hand_landmark_coordinates = [] # Vengono inizializzate due liste vuote, left_hand_landmark_coordinates e right_hand_landmark_coordinates, che conterranno le coordinate dei landmark delle mani sinistra e destra.\n",
    "\n",
    "    if left_hand_landmarks: # Questa condizione verifica se sono stati rilevati dei landmark per la mano sinistra.\n",
    "        for landmark in left_hand_landmarks.landmark: #Questo ciclo itera su ciascun oggetto landmark nella lista dei landmark della mano sinistra.\n",
    "            x = int(landmark.x * image.shape[1])\n",
    "            y = int(landmark.y * image.shape[0])\n",
    "            z = landmark.z\n",
    "            left_hand_landmark_coordinates.append((x, y, z)) #Le coordinate (x, y, z) vengono aggiunte alla lista left_hand_landmark_coordinates.\n",
    "    if right_hand_landmarks:\n",
    "        for landmark in right_hand_landmarks.landmark:\n",
    "            x = int(landmark.x * image.shape[1])\n",
    "            y = int(landmark.y * image.shape[0])\n",
    "            z = landmark.z\n",
    "            right_hand_landmark_coordinates.append((x, y, z))\n",
    "\n",
    "    return right_hand_landmark_coordinates, left_hand_landmark_coordinates\n",
    "\n",
    "#La moltiplicazione per la larghezza e l'altezza dell'immagine serve a convertire le coordinate normalizzate \n",
    "# (valori compresi tra 0 e 1) fornite dai landmark in coordinate pixel all'interno dell'immagine.\n",
    "#I landmark restituiti da MediaPipe sono normalizzati rispetto alle dimensioni dell'immagine di input, il che significa \n",
    "# che i valori x e y rappresentano le proporzioni rispetto alla larghezza e all'altezza dell'immagine. Moltiplicando questi \n",
    "# valori per le dimensioni effettive dell'immagine, otteniamo le coordinate in formato pixel.\n",
    "\n",
    "def extract_real_z_values(hand_landmark_coordinates, depth_map):\n",
    "    h = \"\"\"prende in input le coordinate dei landmark della mano e la mappa di profondità (depth map) e \n",
    "    restituisce una lista di valori z reali corrispondenti a ciascun punto dei landmark.\"\"\"\n",
    "\n",
    "    real_z_values = []\n",
    "    predicted_z_values = []\n",
    "\n",
    "    for x, y, z in hand_landmark_coordinates:\n",
    "        depth = depth_map[y, x]\n",
    "        real_z = depth / 255.0 #Il valore di profondità (depth) viene normalizzato dividendo per 255.0, poiché i valori della mappa di profondità di solito sono rappresentati nell'intervallo [0, 255].\n",
    "        real_z_values.append(real_z)\n",
    "        predicted_z_values.append(z)\n",
    "    return real_z_values, predicted_z_values\n",
    "\n",
    "def calculate_accuracy(predicted_z_values, real_z_values, threshold): #calcola l'accuratezza delle predizioni dei valori z rispetto ai valori z reali.\n",
    "\n",
    "    accurate_count = 0 #conta il numero di predizioni accurate.\n",
    "    total_count = len(predicted_z_values) # Viene calcolato il numero totale di predizioni come la lunghezza della lista predicted_z_values.\n",
    "\n",
    "    for predicted_z, real_z in zip(predicted_z_values, real_z_values):\n",
    "        if abs(predicted_z - real_z) < threshold: #viene controllato se la differenza assoluta tra di essi è inferiore alla soglia threshold.\n",
    "            accurate_count += 1 #Se sì, significa che la predizione è accurata.\n",
    "\n",
    "    accuracy = accurate_count / total_count # viene calcolata l'accuratezza dividendo il conteggio delle predizioni accurate accurate_count per il numero totale di predizioni total_count.\n",
    "\n",
    "    return accuracy"
   ]
  },
  {
   "cell_type": "code",
   "execution_count": 55,
   "metadata": {},
   "outputs": [],
   "source": [
    "# Carica l'immagine RGB e la mappa di profondità\n",
    "rgb_image = cv2.imread('Due.jpg')\n",
    "depth_map = cv2.imread('001185 2.jpg', cv2.IMREAD_GRAYSCALE)\n",
    "\n",
    "# Carica il modello di MediaPipe per il rilevamento delle mani\n",
    "with mp_holistic.Holistic(min_detection_confidence=0.5, min_tracking_confidence=0.5) as holistic:\n",
    "    # Effettua la rilevazione delle mani con MediaPipe\n",
    "    image, results = mediapipe_detection(rgb_image, holistic)\n",
    "\n",
    "    #Per verificare visivamente la presenza di landmark prima dell'estrazione delle coordinate\n",
    "    \"\"\"# Draw landmarks\n",
    "    draw_styled_landmarks(image, results)\n",
    "    plt.imshow(cv2.cvtColor(image, cv2.COLOR_BGR2RGB))\"\"\"\n",
    "\n",
    "    # Estrai le coordinate dei landmark della mano destra e sinistra\n",
    "    right_hand_landmark_coordinates, left_hand_landmark_coordinates = extract_hand_landmark_coordinates(results)\n",
    "\n",
    "    #Per verificare visivamente la presenza di landmark dopo dell'estrazione delle coordinate\n",
    "    \"\"\"for landmark in left_hand_landmark_coordinates:\n",
    "    x, y, z = landmark\n",
    "    cv2.circle(image, (x, y), 5, (0, 255, 0), -1)  # Disegna un cerchio verde intorno al landmark\n",
    "    cv2.putText(image, f\"({x}, {y}, {z})\", (x, y), cv2.FONT_HERSHEY_SIMPLEX, 0.5, (0, 0, 255), 1)  # Mostra le coordinate\n",
    "    cv2.imshow('Landmarks', image)\"\"\"\n",
    "\n",
    "\n",
    "    \"\"\"# Estrai i valori di z reali e predetta dalla mappa di profondità per la mano destra\n",
    "    real_z_values_right, predicted_z_values_right = extract_real_z_values(right_hand_landmark_coordinates, depth_map)\n",
    "\n",
    "    # Estrai i valori di z reali e predetta dalla mappa di profondità per la mano sinistra\n",
    "    real_z_values_left, predicted_z_values_left = extract_real_z_values(left_hand_landmark_coordinates, depth_map)\n",
    "\n",
    "\n",
    "    # Calcola l'accuratezza per la mano destra\n",
    "    threshold = 0.1  # Soglia per l'accuratezza\n",
    "    accuracy_right = calculate_accuracy(predicted_z_values_right, real_z_values_right, threshold)\n",
    "    print(f\"Accuracy (Right Hand): {accuracy_right}\")\n",
    "\n",
    "    # Calcola l'accuratezza per la mano sinistra\n",
    "    accuracy_left = calculate_accuracy(predicted_z_values_left, real_z_values_left, threshold)\n",
    "    print(f\"Accuracy (Left Hand): {accuracy_left}\")\n",
    "\n",
    "    # Visualizza i landmark delle mani sull'immagine\n",
    "    for landmark in right_hand_landmark_coordinates:\n",
    "        cv2.circle(image, landmark, 3, (0, 255, 0), -1)\n",
    "\n",
    "    for landmark in left_hand_landmark_coordinates:\n",
    "        cv2.circle(image, landmark, 3, (0, 0, 255), -1)\n",
    "\n",
    "    # Mostra l'immagine a schermo\n",
    "    cv2.imshow('OpenCV Feed', image)\n",
    "    cv2.waitKey(0)\n",
    "    cv2.destroyAllWindows()\"\"\"\n"
   ]
  },
  {
   "cell_type": "code",
   "execution_count": 45,
   "metadata": {},
   "outputs": [
    {
     "data": {
      "text/plain": [
       "(1040, 1560, 3)"
      ]
     },
     "execution_count": 45,
     "metadata": {},
     "output_type": "execute_result"
    }
   ],
   "source": [
    "image.shape"
   ]
  }
 ],
 "metadata": {
  "kernelspec": {
   "display_name": "Python 3.11.3 ('sol3D')",
   "language": "python",
   "name": "python3"
  },
  "language_info": {
   "codemirror_mode": {
    "name": "ipython",
    "version": 3
   },
   "file_extension": ".py",
   "mimetype": "text/x-python",
   "name": "python",
   "nbconvert_exporter": "python",
   "pygments_lexer": "ipython3",
   "version": "3.11.3"
  },
  "orig_nbformat": 4,
  "vscode": {
   "interpreter": {
    "hash": "487071e4b78db7dea0d63908693b0450144b2a88b91c498155ab01fac23904db"
   }
  }
 },
 "nbformat": 4,
 "nbformat_minor": 2
}
