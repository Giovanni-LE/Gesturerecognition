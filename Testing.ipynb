{
 "cells": [
  {
   "cell_type": "markdown",
   "metadata": {},
   "source": [
    "# 1. Librerie"
   ]
  },
  {
   "cell_type": "code",
   "execution_count": null,
   "metadata": {},
   "outputs": [],
   "source": [
    "#!pip install tensorflow==2.4.1 tensorflow-gpu==2.4.1 opencv-python mediapipe sklearn matplotlib\n",
    "import cv2\n",
    "import numpy as np\n",
    "import os\n",
    "from matplotlib import pyplot as plt\n",
    "import time\n",
    "import mediapipe as mp\n",
    "from sklearn.model_selection import train_test_split\n",
    "from tensorflow.keras.utils import to_categorical\n",
    "from tensorflow.keras.models import Sequential\n",
    "from tensorflow.keras.layers import Dense\n",
    "from scipy import stats\n",
    "import pickle\n",
    "from sklearn.metrics import multilabel_confusion_matrix, accuracy_score\n",
    "import seaborn as sns\n",
    "from sklearn.metrics import confusion_matrix"
   ]
  },
  {
   "cell_type": "markdown",
   "metadata": {},
   "source": [
    "# 2. Keypoints using MP Holistic"
   ]
  },
  {
   "cell_type": "code",
   "execution_count": null,
   "metadata": {},
   "outputs": [],
   "source": [
    "mp_holistic = mp.solutions.holistic # Holistic model (to make our detection)\n",
    "mp_drawing = mp.solutions.drawing_utils # Drawing utilities (to draw them)"
   ]
  },
  {
   "cell_type": "code",
   "execution_count": null,
   "metadata": {},
   "outputs": [],
   "source": [
    "def mediapipe_detection(image, model):\n",
    "\n",
    "    \"\"\"\n",
    "    Esegue la rilevazione dei landmark delle mani utilizzando il modello di MediaPipe.\n",
    "\n",
    "    Input:\n",
    "    - image: l'immagine di input (frame) su cui effettuare la rilevazione dei landmark\n",
    "    - model: il modello di MediaPipe per la rilevazione dei landmark\n",
    "\n",
    "    Output:\n",
    "    - image: l'immagine di input modificata, con i landmark disegnati\n",
    "    - results: gli oggetti 'results' contenenti i risultati della rilevazione dei landmark\n",
    "    \"\"\"\n",
    "\n",
    "    image = cv2.cvtColor(image, cv2.COLOR_BGR2RGB) # COLOR CONVERSION BGR 2 RGB\n",
    "    image.flags.writeable = False                  # Image is no longer writeable\n",
    "    results = model.process(image)                 # Make prediction\n",
    "    image.flags.writeable = True                   # Image is now writeable \n",
    "    image = cv2.cvtColor(image, cv2.COLOR_RGB2BGR) # COLOR COVERSION RGB 2 BGR\n",
    "    return image, results"
   ]
  },
  {
   "cell_type": "code",
   "execution_count": null,
   "metadata": {},
   "outputs": [],
   "source": [
    "def draw_landmarks(image, results):\n",
    "    \"\"\"\n",
    "    Disegna i landmark delle mani sull'immagine utilizzando i risultati ottenuti dalla rilevazione di MediaPipe.\n",
    "\n",
    "    Input:\n",
    "    - image: l'immagine su cui disegnare i landmark\n",
    "    - results: i risultati ottenuti dalla rilevazione di MediaPipe\n",
    "\n",
    "    Output:\n",
    "    - None\n",
    "    \"\"\"\n",
    "\n",
    "    # Disegna i landmark della mano sinistra e le relative connessioni\n",
    "    mp_drawing.draw_landmarks(image, results.left_hand_landmarks, mp_holistic.HAND_CONNECTIONS)\n",
    "\n",
    "    # Disegna i landmark della mano destra e le relative connessioni\n",
    "    mp_drawing.draw_landmarks(image, results.right_hand_landmarks, mp_holistic.HAND_CONNECTIONS)"
   ]
  },
  {
   "cell_type": "code",
   "execution_count": null,
   "metadata": {},
   "outputs": [],
   "source": [
    "def draw_styled_landmarks(image, results):\n",
    "    \"\"\"\n",
    "    Disegna i landmark delle mani sull'immagine utilizzando uno stile personalizzato.\n",
    "\n",
    "    Input:\n",
    "    - image: l'immagine su cui disegnare i landmark\n",
    "    - results: i risultati ottenuti dalla rilevazione di MediaPipe\n",
    "\n",
    "    Output:\n",
    "    - None\n",
    "    \"\"\"\n",
    "\n",
    "    # Disegna i landmark della mano sinistra e le relative connessioni con uno stile personalizzato\n",
    "    mp_drawing.draw_landmarks(image, results.left_hand_landmarks, mp_holistic.HAND_CONNECTIONS, \n",
    "                             mp_drawing.DrawingSpec(color=(121,22,76), thickness=2, circle_radius=4), \n",
    "                             mp_drawing.DrawingSpec(color=(121,44,250), thickness=2, circle_radius=2)\n",
    "                             )\n",
    "\n",
    "    # Disegna i landmark della mano destra e le relative connessioni con uno stile personalizzato\n",
    "    mp_drawing.draw_landmarks(image, results.right_hand_landmarks, mp_holistic.HAND_CONNECTIONS, \n",
    "                             mp_drawing.DrawingSpec(color=(245,117,66), thickness=2, circle_radius=4), \n",
    "                             mp_drawing.DrawingSpec(color=(245,66,230), thickness=2, circle_radius=2)\n",
    "                             )"
   ]
  },
  {
   "cell_type": "code",
   "execution_count": null,
   "metadata": {},
   "outputs": [],
   "source": [
    "def extract_keypoints(results):\n",
    "    \"\"\"\n",
    "    Estrae i punti chiave dei landmark delle mani dai risultati di MediaPipe.\n",
    "\n",
    "    Input:\n",
    "    - results: i risultati ottenuti dalla rilevazione di MediaPipe\n",
    "\n",
    "    Output:\n",
    "    - keypoints: un array numpy contenente i punti chiave dei landmark delle mani\n",
    "    \"\"\"\n",
    "\n",
    "    # Estrae i punti chiave dei landmark della mano sinistra se disponibili, altrimenti crea un array di zeri\n",
    "    lh = np.array([[res.x, res.y, res.z] for res in results.left_hand_landmarks.landmark]).flatten() if results.left_hand_landmarks else np.zeros(21*3)\n",
    "\n",
    "    # Estrae i punti chiave dei landmark della mano destra se disponibili, altrimenti crea un array di zeri\n",
    "    rh = np.array([[res.x, res.y, res.z] for res in results.right_hand_landmarks.landmark]).flatten() if results.right_hand_landmarks else np.zeros(21*3)\n",
    "\n",
    "    # Concatena i punti chiave delle mani sinistra e destra in un unico array\n",
    "    keypoints = np.concatenate([lh, rh])\n",
    "\n",
    "    return keypoints"
   ]
  },
  {
   "cell_type": "code",
   "execution_count": null,
   "metadata": {},
   "outputs": [],
   "source": [
    "# Azioni da riconoscere\n",
    "actions = np.array(['0','1', '2', '3','4','5','altro'])"
   ]
  },
  {
   "cell_type": "markdown",
   "metadata": {},
   "source": [
    "# 3. Import Neural Network"
   ]
  },
  {
   "cell_type": "code",
   "execution_count": null,
   "metadata": {},
   "outputs": [],
   "source": [
    "model = Sequential()\n",
    "model.add(Dense(64, activation='relu', input_shape=(126,)))\n",
    "model.add(Dense(32, activation='relu'))\n",
    "model.add(Dense(actions.shape[0], activation='softmax'))\n",
    "model.compile(optimizer='Adam', loss='categorical_crossentropy', metrics=['categorical_accuracy'])\n",
    "\n",
    "model.load_weights('modello/action.h5')"
   ]
  },
  {
   "cell_type": "markdown",
   "metadata": {},
   "source": [
    "# 4. Test in Real Time"
   ]
  },
  {
   "cell_type": "code",
   "execution_count": null,
   "metadata": {},
   "outputs": [],
   "source": [
    "colors = [(245, 117, 16), (117, 245, 16), (16, 117, 245), (255, 0, 0), (0, 255, 0), (0, 0, 255), (255, 255, 0)]\n",
    "\n",
    "def prob_viz(res, actions, input_frame, colors):\n",
    "\n",
    "    \"\"\"\n",
    "    La funzione visualizza una barra di probabilità colorata per ogni azione prevista.\n",
    "    Input:\n",
    "    - res: Array di probabilità delle azioni previste.\n",
    "    - actions: Array delle etichette delle azioni.\n",
    "    - input_frame: Frame di input su cui disegnare le barre di probabilità.\n",
    "    - colors: Lista dei colori corrispondenti alle azioni.\n",
    "    \n",
    "    Output:\n",
    "    - output_frame: Frame di output con le barre di probabilità disegnate.\n",
    "    \"\"\"\n",
    "\n",
    "    # Creazione di una copia del frame di input\n",
    "    output_frame = input_frame.copy()\n",
    "    \n",
    "    for num, prob in enumerate(res):\n",
    "        # Disegno del rettangolo colorato proporzionale alla probabilità dell'azione\n",
    "        cv2.rectangle(output_frame, (0, 60+num*40), (int(prob*100), 90+num*40), colors[num], -1)\n",
    "        \n",
    "        # Aggiunta del testo dell'azione corrispondente sopra il rettangolo\n",
    "        cv2.putText(output_frame, actions[num], (0, 85+num*40), cv2.FONT_HERSHEY_SIMPLEX, 1, (255, 255, 255), 2, cv2.LINE_AA)\n",
    "    \n",
    "    return output_frame\n"
   ]
  },
  {
   "cell_type": "code",
   "execution_count": null,
   "metadata": {},
   "outputs": [],
   "source": [
    "# 1. Nuove variabili per la rilevazione\n",
    "sequence = []\n",
    "sentence = []\n",
    "predictions = []\n",
    "threshold = 0.5\n",
    "\n",
    "cap = cv2.VideoCapture(0)\n",
    "\n",
    "# Imposta il modello di MediaPipe\n",
    "with mp_holistic.Holistic(min_detection_confidence=0.5, min_tracking_confidence=0.5) as holistic:\n",
    "    while cap.isOpened():\n",
    "\n",
    "        # Leggi il frame\n",
    "        ret, frame = cap.read()\n",
    "\n",
    "        # Effettua le rilevazioni\n",
    "        image, results = mediapipe_detection(frame, holistic)\n",
    "        print(results)\n",
    "        \n",
    "        # Disegna i landmark stilizzati sull'immagine\n",
    "        draw_styled_landmarks(image, results)\n",
    "        \n",
    "        # 2. Logica di predizione\n",
    "        keypoints = extract_keypoints(results)\n",
    "        \n",
    "        res = model.predict(np.expand_dims(keypoints, axis=0))[0]\n",
    "        print(actions[np.argmax(res)])\n",
    "        predictions.append(np.argmax(res))\n",
    "            \n",
    "        # 3. Logica di visualizzazione\n",
    "        if np.unique(predictions[-10:])[0] == np.argmax(res) and res[np.argmax(res)] > threshold:\n",
    "            if len(sentence) > 0: \n",
    "                if actions[np.argmax(res)] != sentence[-1]:\n",
    "                    sentence.append(actions[np.argmax(res)])\n",
    "            else:\n",
    "                sentence.append(actions[np.argmax(res)])\n",
    "\n",
    "        if len(sentence) > 5: \n",
    "            sentence = sentence[-5:]\n",
    "\n",
    "        # Visualizza le probabilità\n",
    "        image = prob_viz(res, actions, image, colors)\n",
    "        \n",
    "        cv2.rectangle(image, (0,0), (640, 40), (245, 117, 16), -1)\n",
    "        cv2.putText(image, ' '.join(sentence), (3,30), \n",
    "                   cv2.FONT_HERSHEY_SIMPLEX, 1, (255, 255, 255), 2, cv2.LINE_AA)\n",
    "        \n",
    "        # Mostra il feed alla schermata\n",
    "        cv2.imshow('OpenCV Feed', image)\n",
    "\n",
    "        # Interrompi in modo corretto\n",
    "        if cv2.waitKey(10) & 0xFF == ord('q'):\n",
    "            break\n",
    "    cap.release()\n",
    "    cv2.destroyAllWindows()\n"
   ]
  },
  {
   "cell_type": "code",
   "execution_count": null,
   "metadata": {},
   "outputs": [],
   "source": [
    "cap.release()\n",
    "cv2.destroyAllWindows()"
   ]
  },
  {
   "cell_type": "markdown",
   "metadata": {},
   "source": [
    "# 5. Testing from static image"
   ]
  },
  {
   "cell_type": "code",
   "execution_count": null,
   "metadata": {},
   "outputs": [
    {
     "ename": "",
     "evalue": "",
     "output_type": "error",
     "traceback": [
      "\u001b[1;31mSi è verificato un arresto anomalo del kernel durante l'esecuzione del codice nella cella attiva o in una cella precedente. Esaminare il codice nelle celle per identificare una possibile causa dell'errore. Per altre informazioni, fare clic su <a href='https://aka.ms/vscodeJupyterKernelCrash'>here</a>. Per altri dettagli, vedere Jupyter <a href='command:jupyter.viewOutput'>log</a>."
     ]
    }
   ],
   "source": [
    "with mp_holistic.Holistic(min_detection_confidence=0.5, min_tracking_confidence=0.5) as holistic:\n",
    "    # Carica e preprocessa l'immagine\n",
    "    frame = cv2.imread('Cinque.jpg')\n",
    "    \n",
    "    # Effettua le rilevazioni\n",
    "    image, results = mediapipe_detection(frame, holistic)\n",
    "\n",
    "    # Disegna i landmark stilizzati sull'immagine\n",
    "    draw_styled_landmarks(image, results)\n",
    "\n",
    "    # Estrazione dei punti chiave dai risultati\n",
    "    keypoints = extract_keypoints(results)\n",
    "\n",
    "    # Esegue la predizione utilizzando il modello\n",
    "    res = model.predict(np.expand_dims(keypoints, axis=0), verbose=0)[0]\n",
    "\n",
    "    # Mostra l'immagine con i landmark\n",
    "    plt.imshow(cv2.cvtColor(image, cv2.COLOR_BGR2RGB))\n",
    "    plt.axis('off')\n",
    "    plt.title(\"Classe predetta: {}\".format(actions[np.argmax(res)]))\n",
    "\n",
    "    plt.show()"
   ]
  }
 ],
 "metadata": {
  "kernelspec": {
   "display_name": "Python 3.11.3 ('sol3D')",
   "language": "python",
   "name": "python3"
  },
  "language_info": {
   "codemirror_mode": {
    "name": "ipython",
    "version": 3
   },
   "file_extension": ".py",
   "mimetype": "text/x-python",
   "name": "python",
   "nbconvert_exporter": "python",
   "pygments_lexer": "ipython3",
   "version": "3.11.3"
  },
  "vscode": {
   "interpreter": {
    "hash": "487071e4b78db7dea0d63908693b0450144b2a88b91c498155ab01fac23904db"
   }
  }
 },
 "nbformat": 4,
 "nbformat_minor": 2
}
